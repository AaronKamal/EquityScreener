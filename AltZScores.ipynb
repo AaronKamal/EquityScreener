{
 "cells": [
  {
   "cell_type": "code",
   "execution_count": 35,
   "metadata": {
    "id": "GuhIGG89SmL4"
   },
   "outputs": [],
   "source": [
    "import pandas as pd\n",
    "import numpy as np\n",
    "import math\n",
    "pd.options.display.max_rows = 1000"
   ]
  },
  {
   "cell_type": "code",
   "execution_count": 36,
   "metadata": {
    "id": "Ae2EAONfSq-X"
   },
   "outputs": [],
   "source": [
    "#from google.colab import drive\n",
    "#drive.mount('/content/drive')\n",
    "#path='/Compiled Financial Data - Final2.csv'\n",
    "#data=pd.read_csv(path)\n",
    "#data.head()"
   ]
  },
  {
   "cell_type": "code",
   "execution_count": 37,
   "metadata": {
    "colab": {
     "base_uri": "https://localhost:8080/",
     "height": 257
    },
    "id": "ztOXW6mHSsy7",
    "outputId": "303bf579-354f-4815-a7da-26be75236e06"
   },
   "outputs": [
    {
     "name": "stdout",
     "output_type": "stream",
     "text": [
      "(4194, 61)\n"
     ]
    },
    {
     "data": {
      "text/html": [
       "<div>\n",
       "<style scoped>\n",
       "    .dataframe tbody tr th:only-of-type {\n",
       "        vertical-align: middle;\n",
       "    }\n",
       "\n",
       "    .dataframe tbody tr th {\n",
       "        vertical-align: top;\n",
       "    }\n",
       "\n",
       "    .dataframe thead th {\n",
       "        text-align: right;\n",
       "    }\n",
       "</style>\n",
       "<table border=\"1\" class=\"dataframe\">\n",
       "  <thead>\n",
       "    <tr style=\"text-align: right;\">\n",
       "      <th></th>\n",
       "      <th>Company_Name</th>\n",
       "      <th>NIF_Code</th>\n",
       "      <th>Legal_Form</th>\n",
       "      <th>Last_Available_Year</th>\n",
       "      <th>Number_of_Available_Years</th>\n",
       "      <th>Date_of_Establishment</th>\n",
       "      <th>Status</th>\n",
       "      <th>CNAE_2009_Code</th>\n",
       "      <th>Company_Age_(years)</th>\n",
       "      <th>Balance_Sheet</th>\n",
       "      <th>...</th>\n",
       "      <th>P/L_for_Period</th>\n",
       "      <th>Material_Costs</th>\n",
       "      <th>Cost_of_Employees</th>\n",
       "      <th>Depreciation</th>\n",
       "      <th>Other_Operating_Items</th>\n",
       "      <th>Interest_Paid</th>\n",
       "      <th>Cash_Flow</th>\n",
       "      <th>Added_Value</th>\n",
       "      <th>EBIT</th>\n",
       "      <th>EBITDA</th>\n",
       "    </tr>\n",
       "  </thead>\n",
       "  <tbody>\n",
       "    <tr>\n",
       "      <th>0</th>\n",
       "      <td>ZUGAZTEL_M.P._SOCIEDAD_ANONIMA.</td>\n",
       "      <td>A95584835</td>\n",
       "      <td>Public_limited_company</td>\n",
       "      <td>31/12/2019</td>\n",
       "      <td>11.0</td>\n",
       "      <td>30/09/2009</td>\n",
       "      <td>Active</td>\n",
       "      <td>6203</td>\n",
       "      <td>10</td>\n",
       "      <td>NaN</td>\n",
       "      <td>...</td>\n",
       "      <td>0.0</td>\n",
       "      <td>2652894.61</td>\n",
       "      <td>2564977.97</td>\n",
       "      <td>367114.61</td>\n",
       "      <td>38374.140</td>\n",
       "      <td>0.0</td>\n",
       "      <td>367114.61</td>\n",
       "      <td>2932092.580</td>\n",
       "      <td>0.00</td>\n",
       "      <td>367114.61</td>\n",
       "    </tr>\n",
       "    <tr>\n",
       "      <th>1</th>\n",
       "      <td>ZUGAZTEL_M.P._SOCIEDAD_ANONIMA.</td>\n",
       "      <td>A95584835</td>\n",
       "      <td>Public_limited_company</td>\n",
       "      <td>31/12/2019</td>\n",
       "      <td>11.0</td>\n",
       "      <td>30/09/2009</td>\n",
       "      <td>Active</td>\n",
       "      <td>6203</td>\n",
       "      <td>9</td>\n",
       "      <td>NaN</td>\n",
       "      <td>...</td>\n",
       "      <td>0.0</td>\n",
       "      <td>2697406.13</td>\n",
       "      <td>2591671.88</td>\n",
       "      <td>299358.59</td>\n",
       "      <td>-23310.539</td>\n",
       "      <td>0.0</td>\n",
       "      <td>299358.59</td>\n",
       "      <td>2891030.469</td>\n",
       "      <td>0.00</td>\n",
       "      <td>299358.59</td>\n",
       "    </tr>\n",
       "    <tr>\n",
       "      <th>2</th>\n",
       "      <td>ZUGAZTEL_M.P._SOCIEDAD_ANONIMA.</td>\n",
       "      <td>A95584835</td>\n",
       "      <td>Public_limited_company</td>\n",
       "      <td>31/12/2019</td>\n",
       "      <td>11.0</td>\n",
       "      <td>30/09/2009</td>\n",
       "      <td>Active</td>\n",
       "      <td>6203</td>\n",
       "      <td>8</td>\n",
       "      <td>NaN</td>\n",
       "      <td>...</td>\n",
       "      <td>0.0</td>\n",
       "      <td>2757338.17</td>\n",
       "      <td>2489580.71</td>\n",
       "      <td>177070.75</td>\n",
       "      <td>-120970.080</td>\n",
       "      <td>0.0</td>\n",
       "      <td>177070.75</td>\n",
       "      <td>2666651.460</td>\n",
       "      <td>0.00</td>\n",
       "      <td>177070.75</td>\n",
       "    </tr>\n",
       "    <tr>\n",
       "      <th>3</th>\n",
       "      <td>ZUGAZTEL_M.P._SOCIEDAD_ANONIMA.</td>\n",
       "      <td>A95584835</td>\n",
       "      <td>Public_limited_company</td>\n",
       "      <td>31/12/2019</td>\n",
       "      <td>11.0</td>\n",
       "      <td>30/09/2009</td>\n",
       "      <td>Active</td>\n",
       "      <td>6203</td>\n",
       "      <td>7</td>\n",
       "      <td>NaN</td>\n",
       "      <td>...</td>\n",
       "      <td>0.0</td>\n",
       "      <td>3307726.16</td>\n",
       "      <td>2329079.76</td>\n",
       "      <td>201251.05</td>\n",
       "      <td>-72405.120</td>\n",
       "      <td>0.0</td>\n",
       "      <td>201251.05</td>\n",
       "      <td>2530330.809</td>\n",
       "      <td>0.00</td>\n",
       "      <td>201251.05</td>\n",
       "    </tr>\n",
       "    <tr>\n",
       "      <th>4</th>\n",
       "      <td>ZUGAZTEL_M.P._SOCIEDAD_ANONIMA.</td>\n",
       "      <td>A95584835</td>\n",
       "      <td>Public_limited_company</td>\n",
       "      <td>31/12/2019</td>\n",
       "      <td>11.0</td>\n",
       "      <td>30/09/2009</td>\n",
       "      <td>Active</td>\n",
       "      <td>6203</td>\n",
       "      <td>6</td>\n",
       "      <td>NaN</td>\n",
       "      <td>...</td>\n",
       "      <td>0.0</td>\n",
       "      <td>2755431.48</td>\n",
       "      <td>2300754.30</td>\n",
       "      <td>216744.79</td>\n",
       "      <td>-83309.769</td>\n",
       "      <td>0.0</td>\n",
       "      <td>216744.79</td>\n",
       "      <td>2517499.090</td>\n",
       "      <td>-234.76</td>\n",
       "      <td>216510.03</td>\n",
       "    </tr>\n",
       "  </tbody>\n",
       "</table>\n",
       "<p>5 rows × 61 columns</p>\n",
       "</div>"
      ],
      "text/plain": [
       "                      Company_Name   NIF_Code              Legal_Form  \\\n",
       "0  ZUGAZTEL_M.P._SOCIEDAD_ANONIMA.  A95584835  Public_limited_company   \n",
       "1  ZUGAZTEL_M.P._SOCIEDAD_ANONIMA.  A95584835  Public_limited_company   \n",
       "2  ZUGAZTEL_M.P._SOCIEDAD_ANONIMA.  A95584835  Public_limited_company   \n",
       "3  ZUGAZTEL_M.P._SOCIEDAD_ANONIMA.  A95584835  Public_limited_company   \n",
       "4  ZUGAZTEL_M.P._SOCIEDAD_ANONIMA.  A95584835  Public_limited_company   \n",
       "\n",
       "  Last_Available_Year  Number_of_Available_Years Date_of_Establishment  \\\n",
       "0          31/12/2019                       11.0            30/09/2009   \n",
       "1          31/12/2019                       11.0            30/09/2009   \n",
       "2          31/12/2019                       11.0            30/09/2009   \n",
       "3          31/12/2019                       11.0            30/09/2009   \n",
       "4          31/12/2019                       11.0            30/09/2009   \n",
       "\n",
       "   Status  CNAE_2009_Code  Company_Age_(years)  Balance_Sheet  ...  \\\n",
       "0  Active            6203                   10            NaN  ...   \n",
       "1  Active            6203                    9            NaN  ...   \n",
       "2  Active            6203                    8            NaN  ...   \n",
       "3  Active            6203                    7            NaN  ...   \n",
       "4  Active            6203                    6            NaN  ...   \n",
       "\n",
       "  P/L_for_Period  Material_Costs  Cost_of_Employees  Depreciation  \\\n",
       "0            0.0      2652894.61         2564977.97     367114.61   \n",
       "1            0.0      2697406.13         2591671.88     299358.59   \n",
       "2            0.0      2757338.17         2489580.71     177070.75   \n",
       "3            0.0      3307726.16         2329079.76     201251.05   \n",
       "4            0.0      2755431.48         2300754.30     216744.79   \n",
       "\n",
       "   Other_Operating_Items  Interest_Paid  Cash_Flow  Added_Value    EBIT  \\\n",
       "0              38374.140            0.0  367114.61  2932092.580    0.00   \n",
       "1             -23310.539            0.0  299358.59  2891030.469    0.00   \n",
       "2            -120970.080            0.0  177070.75  2666651.460    0.00   \n",
       "3             -72405.120            0.0  201251.05  2530330.809    0.00   \n",
       "4             -83309.769            0.0  216744.79  2517499.090 -234.76   \n",
       "\n",
       "      EBITDA  \n",
       "0  367114.61  \n",
       "1  299358.59  \n",
       "2  177070.75  \n",
       "3  201251.05  \n",
       "4  216510.03  \n",
       "\n",
       "[5 rows x 61 columns]"
      ]
     },
     "execution_count": 37,
     "metadata": {},
     "output_type": "execute_result"
    }
   ],
   "source": [
    "# read in data\n",
    "data = pd.read_csv(\"Final2.csv\")\n",
    "csdata = pd.read_csv(\"Extracted_data_with_CS.csv\")\n",
    "tdata = pd.read_csv(\"Transformed_data.xlsx - Sheet1.csv\")\n",
    "print(data.shape)\n",
    "data.head()"
   ]
  },
  {
   "cell_type": "code",
   "execution_count": 38,
   "metadata": {
    "colab": {
     "base_uri": "https://localhost:8080/",
     "height": 240
    },
    "id": "h__N2bo1Z6hX",
    "outputId": "56ce38ef-b2c4-42c9-f522-ecf4d9732b0e"
   },
   "outputs": [
    {
     "data": {
      "text/html": [
       "<div>\n",
       "<style scoped>\n",
       "    .dataframe tbody tr th:only-of-type {\n",
       "        vertical-align: middle;\n",
       "    }\n",
       "\n",
       "    .dataframe tbody tr th {\n",
       "        vertical-align: top;\n",
       "    }\n",
       "\n",
       "    .dataframe thead th {\n",
       "        text-align: right;\n",
       "    }\n",
       "</style>\n",
       "<table border=\"1\" class=\"dataframe\">\n",
       "  <thead>\n",
       "    <tr style=\"text-align: right;\">\n",
       "      <th></th>\n",
       "      <th>Company_Name</th>\n",
       "      <th>NIF_Code</th>\n",
       "      <th>Legal_Form</th>\n",
       "      <th>Last_Available_Year</th>\n",
       "      <th>Number_of_Available_Years</th>\n",
       "      <th>Date_of_Establishment</th>\n",
       "      <th>Status</th>\n",
       "      <th>CNAE_2009_Code</th>\n",
       "      <th>Company_Age_(years)</th>\n",
       "      <th>Balance_Sheet</th>\n",
       "      <th>...</th>\n",
       "      <th>Material_Costs</th>\n",
       "      <th>Cost_of_Employees</th>\n",
       "      <th>Depreciation</th>\n",
       "      <th>Other_Operating_Items</th>\n",
       "      <th>Interest_Paid</th>\n",
       "      <th>Cash_Flow</th>\n",
       "      <th>Added_Value</th>\n",
       "      <th>EBIT</th>\n",
       "      <th>EBITDA</th>\n",
       "      <th>Change_in_Working_Capital</th>\n",
       "    </tr>\n",
       "  </thead>\n",
       "  <tbody>\n",
       "    <tr>\n",
       "      <th>0</th>\n",
       "      <td>ZUGAZTEL_M.P._SOCIEDAD_ANONIMA.</td>\n",
       "      <td>A95584835</td>\n",
       "      <td>Public_limited_company</td>\n",
       "      <td>31/12/2019</td>\n",
       "      <td>11.0</td>\n",
       "      <td>30/09/2009</td>\n",
       "      <td>Active</td>\n",
       "      <td>6203</td>\n",
       "      <td>10</td>\n",
       "      <td>NaN</td>\n",
       "      <td>...</td>\n",
       "      <td>2652894.61</td>\n",
       "      <td>2564977.97</td>\n",
       "      <td>367114.61</td>\n",
       "      <td>38374.140</td>\n",
       "      <td>0.0</td>\n",
       "      <td>367114.61</td>\n",
       "      <td>2932092.580</td>\n",
       "      <td>0.00</td>\n",
       "      <td>367114.61</td>\n",
       "      <td>76631.740</td>\n",
       "    </tr>\n",
       "    <tr>\n",
       "      <th>1</th>\n",
       "      <td>ZUGAZTEL_M.P._SOCIEDAD_ANONIMA.</td>\n",
       "      <td>A95584835</td>\n",
       "      <td>Public_limited_company</td>\n",
       "      <td>31/12/2019</td>\n",
       "      <td>11.0</td>\n",
       "      <td>30/09/2009</td>\n",
       "      <td>Active</td>\n",
       "      <td>6203</td>\n",
       "      <td>9</td>\n",
       "      <td>NaN</td>\n",
       "      <td>...</td>\n",
       "      <td>2697406.13</td>\n",
       "      <td>2591671.88</td>\n",
       "      <td>299358.59</td>\n",
       "      <td>-23310.539</td>\n",
       "      <td>0.0</td>\n",
       "      <td>299358.59</td>\n",
       "      <td>2891030.469</td>\n",
       "      <td>0.00</td>\n",
       "      <td>299358.59</td>\n",
       "      <td>-289071.260</td>\n",
       "    </tr>\n",
       "    <tr>\n",
       "      <th>2</th>\n",
       "      <td>ZUGAZTEL_M.P._SOCIEDAD_ANONIMA.</td>\n",
       "      <td>A95584835</td>\n",
       "      <td>Public_limited_company</td>\n",
       "      <td>31/12/2019</td>\n",
       "      <td>11.0</td>\n",
       "      <td>30/09/2009</td>\n",
       "      <td>Active</td>\n",
       "      <td>6203</td>\n",
       "      <td>8</td>\n",
       "      <td>NaN</td>\n",
       "      <td>...</td>\n",
       "      <td>2757338.17</td>\n",
       "      <td>2489580.71</td>\n",
       "      <td>177070.75</td>\n",
       "      <td>-120970.080</td>\n",
       "      <td>0.0</td>\n",
       "      <td>177070.75</td>\n",
       "      <td>2666651.460</td>\n",
       "      <td>0.00</td>\n",
       "      <td>177070.75</td>\n",
       "      <td>7046.510</td>\n",
       "    </tr>\n",
       "    <tr>\n",
       "      <th>3</th>\n",
       "      <td>ZUGAZTEL_M.P._SOCIEDAD_ANONIMA.</td>\n",
       "      <td>A95584835</td>\n",
       "      <td>Public_limited_company</td>\n",
       "      <td>31/12/2019</td>\n",
       "      <td>11.0</td>\n",
       "      <td>30/09/2009</td>\n",
       "      <td>Active</td>\n",
       "      <td>6203</td>\n",
       "      <td>7</td>\n",
       "      <td>NaN</td>\n",
       "      <td>...</td>\n",
       "      <td>3307726.16</td>\n",
       "      <td>2329079.76</td>\n",
       "      <td>201251.05</td>\n",
       "      <td>-72405.120</td>\n",
       "      <td>0.0</td>\n",
       "      <td>201251.05</td>\n",
       "      <td>2530330.809</td>\n",
       "      <td>0.00</td>\n",
       "      <td>201251.05</td>\n",
       "      <td>460381.009</td>\n",
       "    </tr>\n",
       "    <tr>\n",
       "      <th>4</th>\n",
       "      <td>ZUGAZTEL_M.P._SOCIEDAD_ANONIMA.</td>\n",
       "      <td>A95584835</td>\n",
       "      <td>Public_limited_company</td>\n",
       "      <td>31/12/2019</td>\n",
       "      <td>11.0</td>\n",
       "      <td>30/09/2009</td>\n",
       "      <td>Active</td>\n",
       "      <td>6203</td>\n",
       "      <td>6</td>\n",
       "      <td>NaN</td>\n",
       "      <td>...</td>\n",
       "      <td>2755431.48</td>\n",
       "      <td>2300754.30</td>\n",
       "      <td>216744.79</td>\n",
       "      <td>-83309.769</td>\n",
       "      <td>0.0</td>\n",
       "      <td>216744.79</td>\n",
       "      <td>2517499.090</td>\n",
       "      <td>-234.76</td>\n",
       "      <td>216510.03</td>\n",
       "      <td>0.000</td>\n",
       "    </tr>\n",
       "  </tbody>\n",
       "</table>\n",
       "<p>5 rows × 62 columns</p>\n",
       "</div>"
      ],
      "text/plain": [
       "                      Company_Name   NIF_Code              Legal_Form  \\\n",
       "0  ZUGAZTEL_M.P._SOCIEDAD_ANONIMA.  A95584835  Public_limited_company   \n",
       "1  ZUGAZTEL_M.P._SOCIEDAD_ANONIMA.  A95584835  Public_limited_company   \n",
       "2  ZUGAZTEL_M.P._SOCIEDAD_ANONIMA.  A95584835  Public_limited_company   \n",
       "3  ZUGAZTEL_M.P._SOCIEDAD_ANONIMA.  A95584835  Public_limited_company   \n",
       "4  ZUGAZTEL_M.P._SOCIEDAD_ANONIMA.  A95584835  Public_limited_company   \n",
       "\n",
       "  Last_Available_Year  Number_of_Available_Years Date_of_Establishment  \\\n",
       "0          31/12/2019                       11.0            30/09/2009   \n",
       "1          31/12/2019                       11.0            30/09/2009   \n",
       "2          31/12/2019                       11.0            30/09/2009   \n",
       "3          31/12/2019                       11.0            30/09/2009   \n",
       "4          31/12/2019                       11.0            30/09/2009   \n",
       "\n",
       "   Status  CNAE_2009_Code  Company_Age_(years)  Balance_Sheet  ...  \\\n",
       "0  Active            6203                   10            NaN  ...   \n",
       "1  Active            6203                    9            NaN  ...   \n",
       "2  Active            6203                    8            NaN  ...   \n",
       "3  Active            6203                    7            NaN  ...   \n",
       "4  Active            6203                    6            NaN  ...   \n",
       "\n",
       "  Material_Costs  Cost_of_Employees  Depreciation  Other_Operating_Items  \\\n",
       "0     2652894.61         2564977.97     367114.61              38374.140   \n",
       "1     2697406.13         2591671.88     299358.59             -23310.539   \n",
       "2     2757338.17         2489580.71     177070.75            -120970.080   \n",
       "3     3307726.16         2329079.76     201251.05             -72405.120   \n",
       "4     2755431.48         2300754.30     216744.79             -83309.769   \n",
       "\n",
       "   Interest_Paid  Cash_Flow  Added_Value    EBIT     EBITDA  \\\n",
       "0            0.0  367114.61  2932092.580    0.00  367114.61   \n",
       "1            0.0  299358.59  2891030.469    0.00  299358.59   \n",
       "2            0.0  177070.75  2666651.460    0.00  177070.75   \n",
       "3            0.0  201251.05  2530330.809    0.00  201251.05   \n",
       "4            0.0  216744.79  2517499.090 -234.76  216510.03   \n",
       "\n",
       "   Change_in_Working_Capital  \n",
       "0                  76631.740  \n",
       "1                -289071.260  \n",
       "2                   7046.510  \n",
       "3                 460381.009  \n",
       "4                      0.000  \n",
       "\n",
       "[5 rows x 62 columns]"
      ]
     },
     "execution_count": 38,
     "metadata": {},
     "output_type": "execute_result"
    }
   ],
   "source": [
    "# calculating change in working capital\n",
    "data['Change_in_Working_Capital'] = 0\n",
    "nif = 'placehold_code'\n",
    "for i in range(0, len(data)):\n",
    "    if data.loc[i, 'NIF_Code'] == nif:\n",
    "        data.loc[i-1, 'Change_in_Working_Capital'] = data.loc[i-1, 'Working_Capital'] - data.loc[i, 'Working_Capital']\n",
    "    else:\n",
    "        nif = data.loc[i, 'NIF_Code']\n",
    "\n",
    "data.head()"
   ]
  },
  {
   "cell_type": "code",
   "execution_count": 39,
   "metadata": {
    "colab": {
     "base_uri": "https://localhost:8080/"
    },
    "id": "HyohaxXQfVXq",
    "outputId": "715d8193-9eab-4992-836d-a4e19fe21f6a"
   },
   "outputs": [
    {
     "name": "stderr",
     "output_type": "stream",
     "text": [
      "/Users/aaronkamal/opt/anaconda3/lib/python3.8/site-packages/pandas/core/arraylike.py:358: RuntimeWarning: divide by zero encountered in log10\n",
      "  result = getattr(ufunc, method)(*inputs, **kwargs)\n",
      "/Users/aaronkamal/opt/anaconda3/lib/python3.8/site-packages/pandas/core/arraylike.py:358: RuntimeWarning: invalid value encountered in log10\n",
      "  result = getattr(ufunc, method)(*inputs, **kwargs)\n"
     ]
    }
   ],
   "source": [
    "# calculating logs\n",
    "data['Log_Tangible_Fixed_Assets'] = np.log10(data['Tangible_Fixed_Assets'])\n",
    "data['Log_EBIT'] = np.log10(data['EBIT'])"
   ]
  },
  {
   "cell_type": "code",
   "execution_count": 40,
   "metadata": {
    "id": "Tx5lgJJgkKZe"
   },
   "outputs": [],
   "source": [
    "# to be used for PUBLIC companies\n",
    "def Z_Alt(x,y):\n",
    "    zalt = 1.2 * (x['Working_Capital'] / x['Total_Assets']) + 1.4 * (y['RETAINED_EARNINGS'] / x['Total_Assets']) + 3.3 * (x['EBIT'] / x['Total_Assets']) + 0.6 * (x['Shareholders_Funds'] / (x['Current_Liabilities'] + x['Non_Current_Liabilities'])) + 0.99 * (x['Operating_Revenue/Turnover'] / x['Total_Assets'])\n",
    "    return zalt"
   ]
  },
  {
   "cell_type": "code",
   "execution_count": 41,
   "metadata": {
    "id": "Uy_MrtYkkWQ0"
   },
   "outputs": [],
   "source": [
    "# to be used for companies NOT ON STOCK EXCHANGE\n",
    "def Z1_Alt(x,y):\n",
    "    z1alt = 0.717 * (x['Working_Capital'] / x['Total_Assets']) + 0.847 * (y['RETAINED_EARNINGS'] / x['Total_Assets']) + 3.107 * (x['EBIT'] / x['Total_Assets']) + 0.42 * (x['Shareholders_Funds'] / (x['Current_Liabilities'] + x['Non_Current_Liabilities'])) + 0.998 * (x['Operating_Revenue/Turnover'] / x['Total_Assets'])\n",
    "    return z1alt"
   ]
  },
  {
   "cell_type": "code",
   "execution_count": 42,
   "metadata": {
    "id": "eZ-wT5_FkbId"
   },
   "outputs": [],
   "source": [
    "# to be used for STARTER companies\n",
    "def Z2_Alt(x,y):\n",
    "    z2alt = 6.56 * (x['Working_Capital'] / x['Total_Assets']) + 3.26 * (y['RETAINED_EARNINGS'] / x['Total_Assets']) + 6.72 * (x['EBIT'] / x['Total_Assets']) + 1.05 * (x['Shareholders_Funds'] / (x['Current_Liabilities'] + x['Non_Current_Liabilities']))\n",
    "    return z2alt"
   ]
  },
  {
   "cell_type": "code",
   "execution_count": 43,
   "metadata": {
    "id": "8n-w8yOdtojC"
   },
   "outputs": [],
   "source": [
    "# to be used for ALL companies\n",
    "def Ful(x,y):\n",
    "    ful = 5.528 * (y['RETAINED_EARNINGS'] / x['Total_Assets']) + 0.212 * (x['Operating_Revenue/Turnover'] / x['Total_Assets']) + 0.073 * (x['P/L_before_Tax'] / x['Shareholders_Funds']) + 1.27 * ((x['Operating_Revenue/Turnover'] + x['Depreciation'] + x['Taxation'] + x['Change_in_Working_Capital']) / (x['Current_Liabilities'] + x['Non_Current_Liabilities'])) + 0.12 * ((x['Current_Liabilities'] + x['Non_Current_Liabilities']) / x['Total_Assets']) + 2.335 * (x['Current_Liabilities'] / x['Total_Assets']) + 0.575 * (x['Log_Tangible_Fixed_Assets']) + 1.083 * (x['Working_Capital'] / (x['Current_Liabilities'] + x['Non_Current_Liabilities'])) + 0.894 * (x['Log_EBIT'] / x['Financials_Expenses']) - 6.075\n",
    "    return ful"
   ]
  },
  {
   "cell_type": "code",
   "execution_count": 44,
   "metadata": {
    "id": "upLR_JXbtriE"
   },
   "outputs": [],
   "source": [
    "# to be used for ALL companies\n",
    "def Spr(x,y):\n",
    "    spr = 1.3 * (x['Working_Capital'] / x['Total_Assets']) + 3.07 * (x['EBIT'] / x['Total_Assets']) + 0.66 * (x['P/L_before_Tax'] / x['Current_Liabilities']) + 0.4 * (x['Operating_Revenue/Turnover'] / x['Total_Assets'])\n",
    "    return spr"
   ]
  },
  {
   "cell_type": "code",
   "execution_count": 45,
   "metadata": {
    "id": "yiEuMbz6trtr"
   },
   "outputs": [],
   "source": [
    "# to be used for MANUFACTURING companies\n",
    "def CA(x,y):\n",
    "    ca = 4.5913 * (x['Shareholders_Funds'] / x['Total_Assets']) + 4.5080 * ((x['P/L_before_Tax'] - x['Extraordinary_P/L'] + x['Financials_Expenses']) / x['Total_Assets']) + 0.3936 * (x['Operating_Revenue/Turnover'] / x['Total_Assets']) - 2.766\n",
    "    return ca"
   ]
  },
  {
   "cell_type": "code",
   "execution_count": 46,
   "metadata": {
    "id": "JU7-YBs5tr2o"
   },
   "outputs": [],
   "source": [
    "# to be used for ALL companies\n",
    "def Kan(x,y):\n",
    "    kan = 0.05 * (x['P/L_for_Period'] / x['Shareholders_Funds']) + 1.65 * ((x['Current_Assets'] + x['Fixed_Assets']) / (x['Current_Liabilities'] + x['Non_Current_Liabilities'])) + 3.55 * ((x['Current_Assets'] - x['Stocks']) / x['Current_Liabilities']) - 1.06 * (x['Current_Assets'] / x['Current_Liabilities']) - 0.33 * ((x['Current_Liabilities'] + x['Non_Current_Liabilities']) / x['Total_Assets']) \n",
    "    return kan"
   ]
  },
  {
   "cell_type": "code",
   "execution_count": 47,
   "metadata": {
    "id": "GatJAN0EkhVu"
   },
   "outputs": [],
   "source": [
    "data['Z_Alt'] = Z_Alt(data, tdata)"
   ]
  },
  {
   "cell_type": "code",
   "execution_count": 48,
   "metadata": {
    "id": "DpaNPGZq1wfr"
   },
   "outputs": [],
   "source": [
    "data['Z_Alt_Category'] = \" \"\n",
    "\n",
    "for i in range(0, len(data)):\n",
    "    if data.loc[i, 'Z_Alt'] < 1.82:\n",
    "        data.loc[i, 'Z_Alt_Category'] = \"Bankruptcy Imminent\"\n",
    "    elif data.loc[i, 'Z_Alt'] < 2.8:\n",
    "        data.loc[i, 'Z_Alt_Category'] = \"Bankruptcy Probable\"\n",
    "    elif data.loc[i, 'Z_Alt'] < 3.0:\n",
    "        data.loc[i, 'Z_Alt_Category'] = \"Bankruptcy Possible\"\n",
    "    else:\n",
    "        data.loc[i, 'Z_Alt_Category'] = \"Bankruptcy Improbable\""
   ]
  },
  {
   "cell_type": "code",
   "execution_count": 49,
   "metadata": {
    "id": "-94qm4O0kqC8"
   },
   "outputs": [],
   "source": [
    "data['Z1_Alt'] = Z1_Alt(data, tdata)"
   ]
  },
  {
   "cell_type": "code",
   "execution_count": 50,
   "metadata": {
    "id": "DCy_r9dR3Sax"
   },
   "outputs": [],
   "source": [
    "data['Z1_Alt_Category'] = \" \"\n",
    "\n",
    "for i in range(0, len(data)):\n",
    "    if data.loc[i, 'Z1_Alt'] < 1.24:\n",
    "        data.loc[i, 'Z1_Alt_Category'] = \"Bankruptcy Imminent\"\n",
    "    elif data.loc[i, 'Z1_Alt'] < 2.8:\n",
    "        data.loc[i, 'Z1_Alt_Category'] = \"Bankruptcy Probable\"\n",
    "    elif data.loc[i, 'Z1_Alt'] < 2.99:\n",
    "        data.loc[i, 'Z1_Alt_Category'] = \"Bankruptcy Possible\"\n",
    "    else:\n",
    "        data.loc[i, 'Z1_Alt_Category'] = \"Bankruptcy Improbable\""
   ]
  },
  {
   "cell_type": "code",
   "execution_count": 51,
   "metadata": {
    "id": "rrVa-khjkutw"
   },
   "outputs": [],
   "source": [
    "data['Z2_Alt'] = Z2_Alt(data, tdata)"
   ]
  },
  {
   "cell_type": "code",
   "execution_count": 52,
   "metadata": {
    "id": "inGqLGiD3qdr"
   },
   "outputs": [],
   "source": [
    "data['Z2_Alt_Category'] = \" \"\n",
    "\n",
    "for i in range(0, len(data)):\n",
    "    if data.loc[i, 'Z2_Alt'] < 1.11:\n",
    "        data.loc[i, 'Z2_Alt_Category'] = \"Bankruptcy Imminent\"\n",
    "    elif data.loc[i, 'Z2_Alt'] < 2.4:\n",
    "        data.loc[i, 'Z2_Alt_Category'] = \"Bankruptcy Probable\"\n",
    "    elif data.loc[i, 'Z2_Alt'] < 2.6:\n",
    "        data.loc[i, 'Z2_Alt_Category'] = \"Bankruptcy Possible\"\n",
    "    else:\n",
    "        data.loc[i, 'Z2_Alt_Category'] = \"Bankruptcy Improbable\""
   ]
  },
  {
   "cell_type": "code",
   "execution_count": 53,
   "metadata": {
    "id": "1M6X3THvVRrz"
   },
   "outputs": [],
   "source": [
    "data['Ful'] = Ful(data, tdata)"
   ]
  },
  {
   "cell_type": "code",
   "execution_count": 54,
   "metadata": {
    "id": "PVYizVx3h7SH"
   },
   "outputs": [],
   "source": [
    "data['Ful_Category'] = \" \"\n",
    "\n",
    "for i in range(0, len(data)):\n",
    "    if data.loc[i, 'Ful'] < 0:\n",
    "        data.loc[i, 'Ful_Category'] = \"Insolvent\"\n",
    "    else:\n",
    "        data.loc[i, 'Ful_Category'] = \"Improbable\""
   ]
  },
  {
   "cell_type": "code",
   "execution_count": 55,
   "metadata": {
    "id": "q1JZ45mpkCVw"
   },
   "outputs": [],
   "source": [
    "data['Spr'] = Spr(data, tdata)"
   ]
  },
  {
   "cell_type": "code",
   "execution_count": 56,
   "metadata": {
    "id": "j6z6IthHkJSR"
   },
   "outputs": [],
   "source": [
    "data['Spr_Category'] = \" \"\n",
    "\n",
    "for i in range(0, len(data)):\n",
    "    if data.loc[i, 'Spr'] < 0.86:\n",
    "        data.loc[i, 'Spr_Category'] = \"Insolvent\"\n",
    "    else:\n",
    "        data.loc[i, 'Spr_Category'] = \"Improbable\""
   ]
  },
  {
   "cell_type": "code",
   "execution_count": 57,
   "metadata": {
    "id": "3-p2J-TFmb1A"
   },
   "outputs": [],
   "source": [
    "data['Ca'] = CA(data, tdata)"
   ]
  },
  {
   "cell_type": "code",
   "execution_count": 58,
   "metadata": {
    "id": "7nErNtRJmh92"
   },
   "outputs": [],
   "source": [
    "data['Ca_Category'] = \" \"\n",
    "\n",
    "for i in range(0, len(data)):\n",
    "    if data.loc[i, 'Ca'] < -0.3:\n",
    "        data.loc[i, 'Ca_Category'] = \"Insolvent\"\n",
    "    else:\n",
    "        data.loc[i, 'Ca_Category'] = \"Improbable\""
   ]
  },
  {
   "cell_type": "code",
   "execution_count": 59,
   "metadata": {
    "id": "fFlu8QYKpW1f"
   },
   "outputs": [],
   "source": [
    "data['Kan'] = Kan(data, tdata)"
   ]
  },
  {
   "cell_type": "code",
   "execution_count": 60,
   "metadata": {
    "id": "tJhLTWxtpnAn"
   },
   "outputs": [],
   "source": [
    "data['Kan_Category'] = \" \"\n",
    "\n",
    "for i in range(0, len(data)):\n",
    "    if data.loc[i, 'Kan'] < -3:\n",
    "        data.loc[i, 'Kan_Category'] = \"Insolvent\"\n",
    "    elif data.loc[i, 'Kan'] < 0:\n",
    "        data.loc[i, 'Kan_Category'] = \"Undefined\"\n",
    "    else:\n",
    "        data.loc[i, 'Kan_Category'] = \"Improbable\""
   ]
  },
  {
   "cell_type": "code",
   "execution_count": 61,
   "metadata": {
    "id": "Y9qKqn4hq_B1"
   },
   "outputs": [],
   "source": [
    "# reduce the companies formulas to what they should be\n",
    "for i in range(0, len(data)):\n",
    "\n",
    "  # remove non-public companies from Z_Alt\n",
    "  if data.loc[i, 'Legal_Form'] != 'Public_limited_company':\n",
    "    data.loc[i, 'Z_Alt'] = math.nan\n",
    "    data.loc[i, 'Z_Alt_Category'] = 'Not Applicable'\n",
    "\n",
    "  # remove public companies from Z1_Alt\n",
    "  if data.loc[i, 'Legal_Form'] == 'Public_limited_company':\n",
    "    data.loc[i, 'Z1_Alt'] = math.nan\n",
    "    data.loc[i, 'Z1_Alt_Category'] = 'Not Applicable'\n",
    "\n",
    "  # remove non starter categories from non-starter companies\n",
    "  if data.loc[i, 'Number_of_Available_Years'] >= 4:\n",
    "    data.loc[i, 'Z2_Alt'] = math.nan\n",
    "    data.loc[i, 'Z2_Alt_Category'] = 'Not Applicable'"
   ]
  },
  {
   "cell_type": "code",
   "execution_count": 62,
   "metadata": {
    "colab": {
     "base_uri": "https://localhost:8080/"
    },
    "id": "AnOgoSnxrDBm",
    "outputId": "5dfbec4f-802d-4373-f3a5-3f92db039344"
   },
   "outputs": [
    {
     "name": "stdout",
     "output_type": "stream",
     "text": [
      "Not Applicable           3165\n",
      "Bankruptcy Improbable     454\n",
      "Bankruptcy Imminent       285\n",
      "Bankruptcy Probable       239\n",
      "Bankruptcy Possible        51\n",
      "Name: Z_Alt_Category, dtype: int64\n",
      "\n",
      "\n",
      "Bankruptcy Improbable    1291\n",
      "Bankruptcy Probable      1081\n",
      "Not Applicable           1029\n",
      "Bankruptcy Imminent       670\n",
      "Bankruptcy Possible       123\n",
      "Name: Z1_Alt_Category, dtype: int64\n",
      "\n",
      "\n",
      "Not Applicable           4004\n",
      "Bankruptcy Imminent        91\n",
      "Bankruptcy Improbable      79\n",
      "Bankruptcy Probable        16\n",
      "Bankruptcy Possible         4\n",
      "Name: Z2_Alt_Category, dtype: int64\n",
      "\n",
      "\n",
      "Improbable    3752\n",
      "Insolvent      442\n",
      "Name: Ful_Category, dtype: int64\n",
      "\n",
      "\n",
      "Improbable    2944\n",
      "Insolvent     1250\n",
      "Name: Spr_Category, dtype: int64\n",
      "\n",
      "\n",
      "Improbable    2249\n",
      "Insolvent     1945\n",
      "Name: Ca_Category, dtype: int64\n",
      "\n",
      "\n",
      "Improbable    4145\n",
      "Undefined       38\n",
      "Insolvent       11\n",
      "Name: Kan_Category, dtype: int64\n"
     ]
    }
   ],
   "source": [
    "# print the categories\n",
    "print(data['Z_Alt_Category'].value_counts())\n",
    "print(\"\\n\")\n",
    "print(data['Z1_Alt_Category'].value_counts())\n",
    "print(\"\\n\")\n",
    "print(data['Z2_Alt_Category'].value_counts())\n",
    "print(\"\\n\")\n",
    "print(data['Ful_Category'].value_counts())\n",
    "print(\"\\n\")\n",
    "print(data['Spr_Category'].value_counts())\n",
    "print(\"\\n\")\n",
    "print(data['Ca_Category'].value_counts())\n",
    "print(\"\\n\")\n",
    "print(data['Kan_Category'].value_counts())"
   ]
  },
  {
   "cell_type": "code",
   "execution_count": 63,
   "metadata": {
    "colab": {
     "base_uri": "https://localhost:8080/",
     "height": 324
    },
    "id": "l_HDGE1L4_YG",
    "outputId": "1de2b32f-25d2-4d56-e625-8bce6f8c29f8"
   },
   "outputs": [],
   "source": [
    "data['Credit_score'] = csdata['Credit_score']\n",
    "data['CS_Category_Type'] = csdata['Category_type']\n",
    "data.head()\n",
    "data.to_csv(\"data.csv\")"
   ]
  },
  {
   "cell_type": "code",
   "execution_count": 64,
   "metadata": {
    "colab": {
     "base_uri": "https://localhost:8080/"
    },
    "id": "PpeWJlDq5O_E",
    "outputId": "9bd6fc8f-3b75-4a0c-c467-ef08223cd1e5"
   },
   "outputs": [
    {
     "name": "stdout",
     "output_type": "stream",
     "text": [
      "Fair         1544\n",
      "Good         1279\n",
      "Poor          974\n",
      "Very Good     389\n",
      "Excellent       8\n",
      "Name: CS_Category_Type, dtype: int64\n"
     ]
    }
   ],
   "source": [
    "print(data['CS_Category_Type'].value_counts())"
   ]
  },
  {
   "cell_type": "code",
   "execution_count": null,
   "metadata": {},
   "outputs": [],
   "source": []
  }
 ],
 "metadata": {
  "colab": {
   "name": "AltZScores.ipynb",
   "provenance": []
  },
  "kernelspec": {
   "display_name": "Python 3",
   "language": "python",
   "name": "python3"
  },
  "language_info": {
   "codemirror_mode": {
    "name": "ipython",
    "version": 3
   },
   "file_extension": ".py",
   "mimetype": "text/x-python",
   "name": "python",
   "nbconvert_exporter": "python",
   "pygments_lexer": "ipython3",
   "version": "3.8.5"
  }
 },
 "nbformat": 4,
 "nbformat_minor": 1
}
