{
 "cells": [
  {
   "cell_type": "code",
   "execution_count": 1,
   "metadata": {},
   "outputs": [
    {
     "data": {
      "text/plain": [
       "4206"
      ]
     },
     "execution_count": 1,
     "metadata": {},
     "output_type": "execute_result"
    }
   ],
   "source": [
    "import pandas as pd\n",
    "import numpy as np\n",
    "\n",
    "data=pd.read_excel(\"Extracted_data.xlsx\")\n",
    "\n",
    "data = data.rename(columns={'Number_of_Years_in_Business': 'NUMBER_OF_YEARS_IN_BUSINESS', 'Inventory': 'INVENTORY', 'Earnings_Before_Tax' :'EARNING_BEFORE_TAX', \n",
    "                           'Current_Assets':'CURRENT_ASSETS', 'Short_Term_Liabilities':'Short_term_Liabilities', 'Finance_Cost':'Finance_cost', \n",
    "                           'Long_Term_Liabilities':'Long_term_Liabilities'})\n",
    "\n",
    "len(data)"
   ]
  },
  {
   "cell_type": "code",
   "execution_count": 2,
   "metadata": {},
   "outputs": [],
   "source": [
    "def Credit_Score(df, sector):\n",
    "    \n",
    "    #LIQUIDITY RELATIVE TO SECTOR BEST\n",
    "    if sector < 6 or sector==7:\n",
    "        LIQUIDITY_RELATIVE_TO_SECTOR_BEST = -0.87326\n",
    "    elif sector==6:\n",
    "        LIQUIDITY_RELATIVE_TO_SECTOR_BEST = -1.5017   \n",
    "    else:\n",
    "        LIQUIDITY_RELATIVE_TO_SECTOR_BEST = -0.80308\n",
    "    \n",
    "    company_age=-0.035031731*df.NUMBER_OF_YEARS_IN_BUSINESS #max year 23\n",
    "    Com_adj=np.where(company_age < -0.7706981, -0.7706981, company_age)\n",
    "    Best_values= -2.695374908-1.10074827-1.68564152+LIQUIDITY_RELATIVE_TO_SECTOR_BEST\n",
    "    \n",
    "    #sector growth\n",
    "    if sector==1 or sector==7:\n",
    "        sector_growth=0.0278499\n",
    "    elif sector>1 and sector <6:\n",
    "        sector_growth=-0.09312945\n",
    "    elif sector ==6:\n",
    "        sector_growth=-0.0989015\n",
    "    else:\n",
    "        sector_growth =-0.29093514\n",
    "    \n",
    "    #sector evaluation   \n",
    "    if sector in [1, 7, 9, 17]:\n",
    "        sector_evaluation=0\n",
    "    elif sector== 6 or sector ==12:\n",
    "        sector_evaluation=0.7600768\n",
    "    else:\n",
    "        sector_evaluation=0.31864218\n",
    "        \n",
    "    #Best Score\n",
    "    Credit_sc_adj_b=0.332094193 + sector_growth + sector_evaluation + Com_adj + Best_values\n",
    "    best_score=(3.838634311-Credit_sc_adj_b)/(3.838634311-(-7.868071879))*100\n",
    "\n",
    "    FC_SHARE = best_score - (best_score*((Best_values+2.695374908)/Best_values))\n",
    "    ROA_SHARE = best_score - (best_score*((Best_values+1.10074827)/Best_values))\n",
    "    ATR_SHARE = best_score - (best_score*((Best_values+1.68564152)/Best_values))\n",
    "    LRS_SHARE = best_score - (best_score*((Best_values-LIQUIDITY_RELATIVE_TO_SECTOR_BEST)/Best_values))\n",
    "    SOL_SHARE = best_score - (best_score*((Best_values-2.322368)/Best_values))\n",
    "    \n",
    "    #LIQUIDITY adjasted\n",
    "    if sector < 6 or sector==7:\n",
    "        LIQUIDITY_RELATIVE_TO_SECTOR = ((df.CURRENT_ASSETS-df.INVENTORY)/df.Short_term_Liabilities)*-0.459609287\n",
    "        liq=np.where(LIQUIDITY_RELATIVE_TO_SECTOR<-0.87326, -0.87326, LIQUIDITY_RELATIVE_TO_SECTOR)\n",
    "        LIQ_adj=np.where(LIQUIDITY_RELATIVE_TO_SECTOR>0, 0, liq)\n",
    "    \n",
    "    elif sector==6:\n",
    "        LIQUIDITY_RELATIVE_TO_SECTOR = (((df.CURRENT_ASSETS-df.INVENTORY)/df.Short_term_Liabilities)-0.59)*-1.45795761\n",
    "        liq=np.where(LIQUIDITY_RELATIVE_TO_SECTOR<-1.50169603, -1.50169603, LIQUIDITY_RELATIVE_TO_SECTOR)\n",
    "        LIQ_adj=np.where(LIQUIDITY_RELATIVE_TO_SECTOR > 0, 0, liq)\n",
    "    \n",
    "    else:\n",
    "        LIQUIDITY_RELATIVE_TO_SECTOR = (((df.CURRENT_ASSETS-df.INVENTORY)/df.Short_term_Liabilities)-0.85)*-1.460143528\n",
    "        liq=np.where(LIQUIDITY_RELATIVE_TO_SECTOR< -0.80308, -0.80308, LIQUIDITY_RELATIVE_TO_SECTOR)\n",
    "        LIQ_adj=np.where(LIQUIDITY_RELATIVE_TO_SECTOR > 0, 0, liq)\n",
    "\n",
    "    Finance_cost=(df.Finance_cost/(df.Short_term_Liabilities+df.Long_term_Liabilities)+0.1)*-26.95374908\n",
    "    Asset_turnover_ratio=(df.Revenue/(df.CURRENT_ASSETS+df.Non_Current_Assets)-0.4)*-1.404701266\n",
    "    return_on_assets=(df.EARNING_BEFORE_TAX/(df.CURRENT_ASSETS+df.Non_Current_Assets))*-8.532932359\n",
    "    Solvency=((df.Short_term_Liabilities+df.Long_term_Liabilities)/(df.CURRENT_ASSETS+df.Non_Current_Assets)-0.2)*2.902960506\n",
    "    fin=np.where(Finance_cost<-2.695374908, -2.695374908, Finance_cost)\n",
    "    FIN_adj=np.where(Finance_cost>0, 0, fin)\n",
    "    Asset=np.where(Asset_turnover_ratio>0, 0, Asset_turnover_ratio)\n",
    "    Asset_adj=np.where(Asset_turnover_ratio< -1.68564152, -1.68564152, Asset)\n",
    "    ret=np.where(return_on_assets>0, 0, return_on_assets)\n",
    "    Ret_adj=np.where(return_on_assets<-1.10074827, -1.10074827, ret)\n",
    "    Sol=np.where(Solvency>2.3223684, 2.3223684, Solvency)\n",
    "    Sol_adj=np.where(Solvency< 0, 0, Sol)\n",
    "    \n",
    "    Credit_sc_adj=0.332094193 + sector_growth+sector_evaluation+LIQ_adj+FIN_adj+Asset_adj+Ret_adj+Sol_adj+Com_adj\n",
    "    Actual_score= (3.838634311-Credit_sc_adj)/(3.838634311-(-7.868071879))*100\n",
    "\n",
    "    Var = {'Finance_cost': FC_SHARE-(FC_SHARE*(FIN_adj/-2.695374908)),\n",
    "           'Return_on_Assets': ROA_SHARE-(ROA_SHARE*(Ret_adj/-1.10074827)),\n",
    "           'Asset_Turnover_Ratio': ATR_SHARE-(ATR_SHARE*(Asset_adj/-1.68564152)),\n",
    "           'Liquidity_Relative_to_Sector': LRS_SHARE-(LRS_SHARE*(LIQ_adj/LIQUIDITY_RELATIVE_TO_SECTOR_BEST)),\n",
    "           'Solvency': 0-(SOL_SHARE*(Sol_adj/2.322368))}\n",
    "\n",
    "    sort_orders = sorted(Var.items(), key=lambda x: x[1], reverse=True)\n",
    "    #return [print(i[0], i[1].round(2)) for i in sort_orders if i[1]>5] and print('Best score: ', best_score.round(2), 'Actual score: ', Actual_score.round(2))\n",
    "    return Actual_score.round(2)\n"
   ]
  },
  {
   "cell_type": "markdown",
   "metadata": {},
   "source": [
    "List of sectors:    \n",
    "Agricultura, ganadería, silvicultura y pesca\t1       \n",
    "Industrias extractivas\t2       \n",
    "Industria manufacturera\t3    \n",
    "Suministro de energía eléctrica, gas, vapor y aire acondicionado\t4      \n",
    "Suministro de agua, actividades de saneamiento, gestión de residuos y descontaminación\t5      \n",
    "Construcción\t6      \n",
    "Comercio al por mayor y al por menor y reparación de vehículos de motor y motocicletas\t7       \n",
    "Transporte y almacenamiento\t8      \n",
    "Hostelería\t9       \n",
    "Información y comunicaciones\t10       \n",
    "Actividades financieras y de seguros\t11       \n",
    "Actividades inmobiliarias\t12       \n",
    "Actividades profesionales, científicas y técnicas\t13       \n",
    "Actividades administrativas y servicios auxliares\t14      \n",
    "Administración Pública y defensa y Seguridad Social obligatoria\t15     \n",
    "Educación\t16       \n",
    "Actividades sanitarias y de servicios sociales\t17     \n",
    "Actividades artísticas, recreativas y de entrenimiento\t18      \n",
    "Otros servicios\t19       \n",
    "Actividades de los hogares como empleadores de personal doméstico; actividades de los hogares como productores de bienes y servicios para uso propio\t20        \n",
    "Actividades de organizaciones y organismos extraterritoriales\t21         "
   ]
  },
  {
   "cell_type": "code",
   "execution_count": 3,
   "metadata": {},
   "outputs": [],
   "source": [
    "sector=13 # we need to change sector regarding the sector number assigh above like >>> Industria manufacturera 3\n",
    "data['Credit_score'] = np.nan\n",
    "for i in range(0, len(data)):\n",
    "    data.loc[i, 'Credit_score'] = Credit_Score(data.iloc[i:i+1,], sector)\n",
    "    \n",
    "data['Category_type'] = ' '\n",
    "\n",
    "for i in range(0, len(data)):\n",
    "    if data.loc[i, 'Credit_score'] < 50:\n",
    "        data.loc[i, 'Category_type'] = 'Poor'\n",
    "    elif data.loc[i, 'Credit_score'] < 66:\n",
    "        data.loc[i, 'Category_type'] = 'Fair'\n",
    "    elif data.loc[i, 'Credit_score'] < 80:\n",
    "        data.loc[i, 'Category_type'] = 'Good'\n",
    "    elif data.loc[i, 'Credit_score'] < 90:\n",
    "        data.loc[i, 'Category_type'] = 'Very Good'\n",
    "    else:\n",
    "        data.loc[i, 'Category_type'] = 'Excellent'"
   ]
  },
  {
   "cell_type": "code",
   "execution_count": 4,
   "metadata": {},
   "outputs": [],
   "source": [
    "data.to_csv('Extracted_data_with_CS.csv', index=False)"
   ]
  },
  {
   "cell_type": "code",
   "execution_count": null,
   "metadata": {},
   "outputs": [],
   "source": []
  },
  {
   "cell_type": "code",
   "execution_count": null,
   "metadata": {},
   "outputs": [],
   "source": []
  }
 ],
 "metadata": {
  "kernelspec": {
   "display_name": "Python 3",
   "language": "python",
   "name": "python3"
  },
  "language_info": {
   "codemirror_mode": {
    "name": "ipython",
    "version": 3
   },
   "file_extension": ".py",
   "mimetype": "text/x-python",
   "name": "python",
   "nbconvert_exporter": "python",
   "pygments_lexer": "ipython3",
   "version": "3.8.5"
  }
 },
 "nbformat": 4,
 "nbformat_minor": 4
}
