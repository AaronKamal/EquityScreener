{
 "cells": [
  {
   "cell_type": "code",
   "execution_count": 1,
   "metadata": {},
   "outputs": [
    {
     "name": "stderr",
     "output_type": "stream",
     "text": [
      "/Users/aaronkamal/opt/anaconda3/lib/python3.8/site-packages/IPython/core/interactiveshell.py:3146: DtypeWarning: Columns (7) have mixed types.Specify dtype option on import or set low_memory=False.\n",
      "  has_raised = await self.run_ast_nodes(code_ast.body, cell_name,\n"
     ]
    },
    {
     "name": "stdout",
     "output_type": "stream",
     "text": [
      "1    0.662646\n",
      "0    0.337354\n",
      "Name: CS_number, dtype: float64\n"
     ]
    }
   ],
   "source": [
    "#Check shareholder funds when its negative if we have poor category type in Credit score\n",
    "import pandas as pd\n",
    "import numpy as np\n",
    "\n",
    "\n",
    "df = pd.read_csv(\"21_sectors_final.csv\")\n",
    "        \n",
    "df['SHneg']=np.nan\n",
    "\n",
    "for i in range(0,(len(df))):\n",
    "    if df.loc[i,'Shareholders_Funds']<0:\n",
    "        df.loc[i,'SHneg']=\"1\"\n",
    "    else:\n",
    "        df.loc[i,'SHneg']=\"0\"\n",
    "        \n",
    "df = df[df['SHneg'].isin(['1'])]\n",
    "\n",
    "def creditscore(row):\n",
    "        if row[\"CS_Category_Type\"] == \"Poor\":\n",
    "            return \"1\"\n",
    "        else:\n",
    "            return \"0\"\n",
    "df = df.assign(CS_number=df.apply(creditscore, axis=1))\n",
    "print(df['CS_number'].value_counts(1))\n",
    "#df.to_csv('data.csv')\n",
    "#"
   ]
  },
  {
   "cell_type": "code",
   "execution_count": 2,
   "metadata": {},
   "outputs": [
    {
     "name": "stderr",
     "output_type": "stream",
     "text": [
      "/Users/aaronkamal/opt/anaconda3/lib/python3.8/site-packages/IPython/core/interactiveshell.py:3146: DtypeWarning: Columns (7) have mixed types.Specify dtype option on import or set low_memory=False.\n",
      "  has_raised = await self.run_ast_nodes(code_ast.body, cell_name,\n"
     ]
    },
    {
     "name": "stdout",
     "output_type": "stream",
     "text": [
      "0    17148\n",
      "1    10808\n",
      "Name: CS_number, dtype: int64\n"
     ]
    }
   ],
   "source": [
    "#How many probable from Z-alt was catching in  Credit Score Poor Category \n",
    "import pandas as pd\n",
    "import numpy as np\n",
    "\n",
    "\n",
    "df = pd.read_csv(\"21_sectors_final.csv\")\n",
    "        \n",
    "def zalt(row):\n",
    "        if row[\"Z_Alt_Category\"] == \"Bankruptcy Probable\":\n",
    "            return \"1\"\n",
    "        elif row[\"Z_Alt_Category\"] == \"Bankruptcy Imminent\":\n",
    "            return \"1\"\n",
    "        else:\n",
    "            return \"0\"\n",
    "df = df.assign(zalt=df.apply(zalt, axis=1))\n",
    "\n",
    "\n",
    "df = df[df['zalt'].isin(['1'])]\n",
    "\n",
    "def creditscore(row):\n",
    "        if row[\"CS_Category_Type\"] == \"Poor\":\n",
    "            return \"1\"\n",
    "        else:\n",
    "            return \"0\"\n",
    "df = df.assign(CS_number=df.apply(creditscore, axis=1))\n",
    "df.to_csv('data.csv')\n",
    "print(df['CS_number'].value_counts())"
   ]
  },
  {
   "cell_type": "code",
   "execution_count": null,
   "metadata": {},
   "outputs": [],
   "source": []
  }
 ],
 "metadata": {
  "kernelspec": {
   "display_name": "Python 3",
   "language": "python",
   "name": "python3"
  },
  "language_info": {
   "codemirror_mode": {
    "name": "ipython",
    "version": 3
   },
   "file_extension": ".py",
   "mimetype": "text/x-python",
   "name": "python",
   "nbconvert_exporter": "python",
   "pygments_lexer": "ipython3",
   "version": "3.8.5"
  }
 },
 "nbformat": 4,
 "nbformat_minor": 4
}
