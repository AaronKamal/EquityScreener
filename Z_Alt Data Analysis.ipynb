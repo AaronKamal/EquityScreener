{
 "cells": [
  {
   "cell_type": "code",
   "execution_count": 2,
   "metadata": {},
   "outputs": [],
   "source": [
    "import pandas as pd\n",
    "import numpy as np\n",
    "import seaborn as sns \n",
    "import matplotlib.pyplot as plt\n",
    "import seaborn as sns\n",
    "from numpy import cov\n",
    "from scipy import stats\n",
    "import csv\n",
    "import glob\n",
    "#data = pd.read_csv(\"Final3.csv\")\n",
    "\n",
    "li=[]\n",
    "header = ['Sector_Name','CNAE','Number_of_Companies_Used','Number_of_Same','Number_of_Different','Accuracy','Mean','Standard_Deviation']\n",
    "\n",
    "with open('z_alt.csv', 'w', encoding='UTF8', newline='') as f:\n",
    "    writer = csv.writer(f)\n",
    "    writer.writerow(header)\n",
    "    f.close()\n",
    "    \n",
    "path = r'/Volumes/BEAST MODE/CSV files' # use your path\n",
    "\n",
    "all_files = glob.glob(path + \"/*.csv\")\n",
    "\n",
    "li = []\n",
    "\n",
    "for filename in all_files:\n",
    "    data = pd.read_csv(filename, index_col=None, header=0)\n",
    "    data.replace(to_replace = 'Limited_liability_company', value = '0', inplace = True)\n",
    "    data = data[['Company_Name','CNAE_2009_Code','NIF_Code', 'Legal_Form','Z_Alt','Z_Alt_Category','Credit_score','CS_Category_Type']]\n",
    "    data = data[~data['Legal_Form'].isin(['0'])]\n",
    "    a = data['Z_Alt']\n",
    "    p95 = np.percentile(a, 95)\n",
    "    p5 = np.percentile(a, 5)\n",
    "    #print(p95)\n",
    "    #print(p5)\n",
    "    def percentile95(row):\n",
    "        if row[\"Z_Alt\"] < p95:\n",
    "            return \"1\"\n",
    "        else:\n",
    "            return \"0\"\n",
    "    def percentile5(row):\n",
    "        if row[\"Z_Alt\"] > p5:\n",
    "            return \"1\"\n",
    "        else:\n",
    "            return \"0\"\n",
    "    data = data.assign(per95=data.apply(percentile95, axis=1))\n",
    "    data = data.assign(per5=data.apply(percentile5, axis=1))\n",
    "    data = data[~data['per95'].isin(['0'])]\n",
    "    data = data[~data['per5'].isin(['0'])]\n",
    "\n",
    "    def z_alt_num(row):\n",
    "        if row[\"Z_Alt_Category\"] == \"Bankruptcy Imminent\":\n",
    "            return \"4\"\n",
    "        elif row[\"Z_Alt_Category\"] == \"Bankruptcy Probable\":\n",
    "            return \"3\"\n",
    "        elif row[\"Z_Alt_Category\"] == \"Bankruptcy Possible\":\n",
    "            return \"2\"\n",
    "        elif row[\"Z_Alt_Category\"] == \"Bankruptcy Improbable\":\n",
    "            return \"1\"\n",
    "        else:\n",
    "            return \"0\"\n",
    "    data = data.assign(Z_Alt_Number=data.apply(z_alt_num, axis=1))\n",
    "\n",
    "    def cs_num(row):\n",
    "        if row[\"CS_Category_Type\"] == \"Poor\":\n",
    "            return \"4\"\n",
    "        elif row[\"CS_Category_Type\"] == \"Fair\":\n",
    "            return \"3\"\n",
    "        elif row[\"CS_Category_Type\"] == \"Good\":\n",
    "            return \"2\"\n",
    "        elif row[\"CS_Category_Type\"] == \"Very Good\":\n",
    "            return \"1\"\n",
    "        else:\n",
    "            return \"0\"\n",
    "    data = data.assign(CS_number=data.apply(cs_num, axis=1))\n",
    "\n",
    "    def diff(row):\n",
    "        if row['Z_Alt_Number']==row['CS_number']:\n",
    "            return \"1\"\n",
    "        else:\n",
    "            return \"0\"\n",
    "\n",
    "    data = data.assign(difference=data.apply(diff, axis=1))\n",
    "    mean_z_alt=data['Z_Alt'].mean()\n",
    "    sd_z_alt=data['Z_Alt'].std()\n",
    "    difference=data['difference'].value_counts()\n",
    "    dif0= difference['0']\n",
    "    dif1= difference['1']\n",
    "    totalused= dif0+dif1\n",
    "    accuracy= dif1/totalused\n",
    "    cnae=data['CNAE_2009_Code']\n",
    "    blank= ' '\n",
    "    finaldata=[blank,cnae,totalused,dif1,dif0,accuracy,mean_z_alt,sd_z_alt]\n",
    "    with open('z_alt.csv', 'a',newline='\\n',encoding='UTF8') as f:\n",
    "        writer = csv.writer(f)\n",
    "\n",
    "        writer.writerow(finaldata)\n",
    "\n",
    "        f.close()\n",
    "\n",
    "    li.append(data)\n",
    "\n",
    "\n",
    "frame = pd.concat(li, axis=0, ignore_index=True)"
   ]
  },
  {
   "cell_type": "code",
   "execution_count": 59,
   "metadata": {},
   "outputs": [
    {
     "data": {
      "text/plain": [
       "7.932836156933098"
      ]
     },
     "execution_count": 59,
     "metadata": {},
     "output_type": "execute_result"
    }
   ],
   "source": [
    "import numpy as np\n",
    "data = pd.read_csv(\"Final3.csv\")\n",
    "a = data['Z_Alt']\n",
    "p95 = np.percentile(a, 95)\n",
    "p95"
   ]
  },
  {
   "cell_type": "code",
   "execution_count": 3,
   "metadata": {},
   "outputs": [
    {
     "ename": "SyntaxError",
     "evalue": "'return' outside function (<ipython-input-3-5484c5d14c56>, line 6)",
     "output_type": "error",
     "traceback": [
      "\u001b[0;36m  File \u001b[0;32m\"<ipython-input-3-5484c5d14c56>\"\u001b[0;36m, line \u001b[0;32m6\u001b[0m\n\u001b[0;31m    return df.loc[df['Operating_Revenue/Turnover'] == group['Operating_Revenue/Turnover'].max()]\u001b[0m\n\u001b[0m    ^\u001b[0m\n\u001b[0;31mSyntaxError\u001b[0m\u001b[0;31m:\u001b[0m 'return' outside function\n"
     ]
    }
   ],
   "source": [
    "import pandas as pd\n",
    "import numpy as np\n",
    "df=pd.read_csv(\"Final3.csv\")\n",
    "for i in range(0,(len(df)-1)):\n",
    "    if df.loc[i,'NIF_Code']==df.loc[i+1,'NIF_Code']:\n",
    "        return df.loc[df['Operating_Revenue/Turnover'] == group['Operating_Revenue/Turnover'].max()]\n",
    "    else:\n",
    "        df.loc[i,'Operating_Revenue/Turnover']=0\n",
    "        df.loc[i+1,'Operating_Revenue/Turnover']=0"
   ]
  },
  {
   "cell_type": "code",
   "execution_count": 8,
   "metadata": {},
   "outputs": [],
   "source": [
    "import pandas as pd\n",
    "import numpy as np\n",
    "df=pd.read_csv(\"Final3.csv\")\n",
    "for i in range(0,(len(df)-1)):\n",
    "    if df.loc[i,'NIF_Code']==df.loc[i+1,'NIF_Code']:\n",
    "        df['Operating_Revenue/Turnover'].idxmax() \n",
    "    else:\n",
    "        df['Operating_Revenue/Turnover']\n",
    "df.to_csv('data.csv')"
   ]
  },
  {
   "cell_type": "code",
   "execution_count": 13,
   "metadata": {},
   "outputs": [],
   "source": [
    "import pandas as pd\n",
    "import numpy as np\n",
    "df=pd.read_csv(\"Final3.csv\")\n",
    "df.groupby(['NIF_Code'])['Operating_Revenue/Turnover'].transform(max) == df['Operating_Revenue/Turnover']\n",
    "df.to_csv('data.csv')"
   ]
  },
  {
   "cell_type": "code",
   "execution_count": 17,
   "metadata": {},
   "outputs": [
    {
     "ename": "SyntaxError",
     "evalue": "invalid syntax (<ipython-input-17-8b3cf6e8bb0c>, line 6)",
     "output_type": "error",
     "traceback": [
      "\u001b[0;36m  File \u001b[0;32m\"<ipython-input-17-8b3cf6e8bb0c>\"\u001b[0;36m, line \u001b[0;32m6\u001b[0m\n\u001b[0;31m    if df.groupby(['NIF_Code'])['Operating_Revenue/Turnover'].transform(max)\u001b[0m\n\u001b[0m                                                                            ^\u001b[0m\n\u001b[0;31mSyntaxError\u001b[0m\u001b[0;31m:\u001b[0m invalid syntax\n"
     ]
    }
   ],
   "source": [
    "import pandas as pd\n",
    "import numpy as np\n",
    "df=pd.read_csv(\"Final3.csv\")\n",
    "def toprowmax(row):\n",
    "    if df.loc[i,'NIF_Code']==df.loc[i+1,'NIF_Code']:\n",
    "        if df.groupby(['NIF_Code'])['Operating_Revenue/Turnover'].transform(max)\n",
    "            return '1'\n",
    "    else:\n",
    "        0\n",
    "df = df.assign(toprowmax=data.apply(toprowmax, axis=1))\n",
    "df.to_csv('data.csv')"
   ]
  },
  {
   "cell_type": "code",
   "execution_count": null,
   "metadata": {},
   "outputs": [],
   "source": []
  }
 ],
 "metadata": {
  "kernelspec": {
   "display_name": "Python 3",
   "language": "python",
   "name": "python3"
  },
  "language_info": {
   "codemirror_mode": {
    "name": "ipython",
    "version": 3
   },
   "file_extension": ".py",
   "mimetype": "text/x-python",
   "name": "python",
   "nbconvert_exporter": "python",
   "pygments_lexer": "ipython3",
   "version": "3.8.5"
  }
 },
 "nbformat": 4,
 "nbformat_minor": 4
}
